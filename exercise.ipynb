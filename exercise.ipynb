{
 "cells": [
  {
   "cell_type": "markdown",
   "metadata": {},
   "source": [
    "### Cvičení - opakování \n",
    "\n",
    "Máte k dispozici seznam dětí. Některé jsou ve skupině berušky, jiné ve skupině tygřici.\n",
    "\n",
    "Spočítejte, kolik je děti v každé skupině a vytiskněte toto číslo. Pro tento účel využijte funkci `str.format()`.\n",
    "Vytiskněte taky abecedně seřazené seznamy děti v každé skupině zvlášť."
   ]
  },
  {
   "cell_type": "code",
   "execution_count": null,
   "metadata": {
    "collapsed": true
   },
   "outputs": [],
   "source": [
    "kids = {\n",
    "    'Pavla':'berušky', 'Ondřej':'tygříci', 'Jakub':'berušky', 'Klára':'berušky', 'Magdaléna':'tygříci', \n",
    "    'Vojtěch':'berušky', 'Jan':'tygříci', 'Filip':'tygříci', 'Daniel':'tygříci', 'Michaela':'berušky', \n",
    "    'Markéta':'tygříci'\n",
    "}"
   ]
  },
  {
   "cell_type": "markdown",
   "metadata": {},
   "source": [
    "### Cvičení - list comprehensions\n",
    "\n",
    "Vytvořte seznam svých pěti kamarádů\n",
    "Pomocí list comprehensions vytvořte z tohoto seznamu další seznam, který ke každému jménu přidá ' je super!'\n",
    "Vytiskněte vytvořený seznam\n"
   ]
  },
  {
   "cell_type": "markdown",
   "metadata": {
    "collapsed": true
   },
   "source": [
    "### Cvičení - DataFrame \n",
    "\n",
    "Anna a Hanka chtějí jít do Neklidu, Jana a Jitka do Sladkovského, Karel a Jirka do café V lese.\n",
    "\n",
    "Vytvořte `DataFrame` se sloupci `\"Jméno\"` a `\"Hospoda\"`.\n"
   ]
  },
  {
   "cell_type": "markdown",
   "metadata": {},
   "source": [
    "### Cvičení - Series\n",
    "\n",
    "Vytvořte `Series`, kde index bude 5 dni (včetně dnešního dne) a data bude teplota.\n",
    "\n",
    "Nápověda použijte `pd.date_range` a `pd.datetime.now().date()`\n"
   ]
  },
  {
   "cell_type": "markdown",
   "metadata": {},
   "source": [
    "### Cvičení - Tida data\n",
    "\n",
    "Stáhněte data - [počty telefonů](https://raw.githubusercontent.com/vincentarelbundock/Rdatasets/master/csv/datasets/WorldPhones.csv)\n",
    "\n",
    "Přetransformujte data tak, aby měla 3 sloupce: kontinent, rok, počet telefonů"
   ]
  },
  {
   "cell_type": "markdown",
   "metadata": {
    "collapsed": true
   },
   "source": [
    "### Cvičení - výběr podmnožiny dat 1\n",
    "\n",
    "Z `titanic` dat:\n",
    "    \n",
    "    1. Vyberte prvních 20 řádků\n",
    "    2. Ponechte sloupci obsahující jméno, pohlaví, věk, kde nastupovali a zda přežili    \n",
    "    3. Spočítejte popisnou statistiku pro všechny sloupce"
   ]
  },
  {
   "cell_type": "markdown",
   "metadata": {
    "collapsed": true
   },
   "source": [
    "### Cvičení - výběr podmnožiny dat 2\n",
    "\n",
    "Spočítejte, kolik procent lidi nastupovalo v Queenstown?"
   ]
  },
  {
   "cell_type": "markdown",
   "metadata": {},
   "source": [
    "### Cvičení - výběr podmnožiny dat 3\n",
    "\n",
    "Použíjte `titanic` data a spočítejte, u kolika osob, které nepřežili, bylo nalezeno tělo."
   ]
  },
  {
   "cell_type": "markdown",
   "metadata": {},
   "source": [
    "### Cvičení - práce s řetězci ve sloupcích\n",
    "\n",
    "Spočítejte, kolik pasažerů mají jenom jedno křestní jméno? (Nápověda, použijte funkci `str.len()`)"
   ]
  },
  {
   "cell_type": "markdown",
   "metadata": {},
   "source": [
    "### Cvičení - seskupování\n",
    "\n",
    "Zjistěte, ve kterém záchranném člunu bylo nejvíce lidí? (Nápověda, použijte funkci `groupby()` a `argmax()`)"
   ]
  },
  {
   "cell_type": "code",
   "execution_count": null,
   "metadata": {
    "collapsed": true
   },
   "outputs": [],
   "source": []
  }
 ],
 "metadata": {
  "kernelspec": {
   "display_name": "Python 3",
   "language": "python",
   "name": "python3"
  },
  "language_info": {
   "codemirror_mode": {
    "name": "ipython",
    "version": 3
   },
   "file_extension": ".py",
   "mimetype": "text/x-python",
   "name": "python",
   "nbconvert_exporter": "python",
   "pygments_lexer": "ipython3",
   "version": "3.6.2"
  }
 },
 "nbformat": 4,
 "nbformat_minor": 2
}
